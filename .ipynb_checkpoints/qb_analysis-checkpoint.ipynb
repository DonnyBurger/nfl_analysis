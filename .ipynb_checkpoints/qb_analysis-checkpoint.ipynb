{
 "cells": [
  {
   "cell_type": "markdown",
   "metadata": {},
   "source": [
    "## NFL Player Analysis\n",
    "\n",
    "Goal is to build a notebook that analyzes player statistics for past games. "
   ]
  },
  {
   "cell_type": "code",
   "execution_count": 1,
   "metadata": {},
   "outputs": [
    {
     "name": "stdout",
     "output_type": "stream",
     "text": [
      "Requirement already satisfied: pandas in /Users/jakepulitzer/opt/anaconda3/lib/python3.7/site-packages (1.2.4)\n",
      "Collecting plotly\n",
      "  Downloading plotly-5.10.0-py2.py3-none-any.whl (15.2 MB)\n",
      "\u001b[K     |████████████████████████████████| 15.2 MB 2.2 MB/s eta 0:00:01\n",
      "\u001b[?25hCollecting nfl_data_py\n",
      "  Downloading nfl_data_py-0.3.0.tar.gz (1.4 MB)\n",
      "\u001b[K     |████████████████████████████████| 1.4 MB 18.1 MB/s eta 0:00:01\n",
      "\u001b[?25hRequirement already satisfied: numpy>=1.16.5 in /Users/jakepulitzer/opt/anaconda3/lib/python3.7/site-packages (from pandas) (1.18.1)\n",
      "Requirement already satisfied: pytz>=2017.3 in /Users/jakepulitzer/opt/anaconda3/lib/python3.7/site-packages (from pandas) (2019.3)\n",
      "Requirement already satisfied: python-dateutil>=2.7.3 in /Users/jakepulitzer/opt/anaconda3/lib/python3.7/site-packages (from pandas) (2.8.1)\n",
      "Collecting tenacity>=6.2.0\n",
      "  Downloading tenacity-8.1.0-py3-none-any.whl (23 kB)\n",
      "Requirement already satisfied: appdirs>1 in /Users/jakepulitzer/opt/anaconda3/lib/python3.7/site-packages (from nfl_data_py) (1.4.4)\n",
      "Collecting fastparquet>0.5\n",
      "  Downloading fastparquet-0.8.1-cp37-cp37m-macosx_10_9_x86_64.whl (603 kB)\n",
      "\u001b[K     |████████████████████████████████| 603 kB 10.1 MB/s eta 0:00:01\n",
      "\u001b[?25hCollecting python-snappy>0.5\n",
      "  Downloading python_snappy-0.6.1-cp37-cp37m-macosx_10_9_x86_64.whl (43 kB)\n",
      "\u001b[K     |████████████████████████████████| 43 kB 3.4 MB/s  eta 0:00:01\n",
      "\u001b[?25hRequirement already satisfied: six>=1.5 in /Users/jakepulitzer/opt/anaconda3/lib/python3.7/site-packages (from python-dateutil>=2.7.3->pandas) (1.14.0)\n",
      "Requirement already satisfied: fsspec in /Users/jakepulitzer/opt/anaconda3/lib/python3.7/site-packages (from fastparquet>0.5->nfl_data_py) (0.6.2)\n",
      "Collecting cramjam>=2.3.0\n",
      "  Downloading cramjam-2.5.0-cp37-cp37m-macosx_10_7_x86_64.whl (1.4 MB)\n",
      "\u001b[K     |████████████████████████████████| 1.4 MB 26.0 MB/s eta 0:00:01\n",
      "\u001b[?25hBuilding wheels for collected packages: nfl-data-py\n",
      "  Building wheel for nfl-data-py (setup.py) ... \u001b[?25ldone\n",
      "\u001b[?25h  Created wheel for nfl-data-py: filename=nfl_data_py-0.3.0-py3-none-any.whl size=25090 sha256=e2364f23dcf39614a126797b1cf4f3cd5c32618ae9a8ec7275c0d333ff411c15\n",
      "  Stored in directory: /Users/jakepulitzer/Library/Caches/pip/wheels/9f/66/7e/98f950f6da7a7d538c2db1beeb3434f1293f7c8968444faf50\n",
      "Successfully built nfl-data-py\n",
      "Installing collected packages: tenacity, plotly, cramjam, fastparquet, python-snappy, nfl-data-py\n",
      "Successfully installed cramjam-2.5.0 fastparquet-0.8.1 nfl-data-py-0.3.0 plotly-5.10.0 python-snappy-0.6.1 tenacity-8.1.0\n"
     ]
    }
   ],
   "source": [
    "!pip install pandas plotly nfl_data_py"
   ]
  },
  {
   "cell_type": "code",
   "execution_count": 2,
   "metadata": {},
   "outputs": [
    {
     "name": "stdout",
     "output_type": "stream",
     "text": [
      "2022 done.\n",
      "Downcasting floats.\n"
     ]
    }
   ],
   "source": [
    "#import packages\n",
    "import pandas as pd\n",
    "import plotly.graph_objects as go\n",
    "import nfl_data_py as nfl\n",
    "\n",
    "#load data\n",
    "df_2022 = nfl.import_pbp_data( [2022] )\n",
    "df_players = nfl.import_rosters( [2022] )\n",
    "df_teams = nfl.import_team_desc()"
   ]
  },
  {
   "cell_type": "markdown",
   "metadata": {},
   "source": [
    "# Analysis of Quarterbacks"
   ]
  },
  {
   "cell_type": "code",
   "execution_count": 3,
   "metadata": {},
   "outputs": [],
   "source": [
    "# filter to pass plays\n",
    "df_2022 = df_2022[df_2022[\"play_type\"] == \"pass\"]"
   ]
  },
  {
   "cell_type": "code",
   "execution_count": 4,
   "metadata": {},
   "outputs": [],
   "source": [
    "#join with roster table to get player names\n",
    "df_2022 = df_2022.merge(df_players[['player_id', 'player_name']],\n",
    "                       left_on=\"passer_player_id\", right_on=\"player_id\")\n"
   ]
  },
  {
   "cell_type": "code",
   "execution_count": 5,
   "metadata": {},
   "outputs": [
    {
     "data": {
      "text/plain": [
       "array(['Joe Flacco', 'Lamar Jackson', 'Josh Allen', 'Matthew Stafford',\n",
       "       'Baker Mayfield', 'Jacoby Brissett', 'Geno Smith',\n",
       "       'Russell Wilson', 'Kirk Cousins', 'Aaron Rodgers', 'Jordan Love',\n",
       "       'Matt Ryan', 'Davis Mills', 'Trevor Lawrence', 'Carson Wentz',\n",
       "       'Patrick Mahomes', 'Kyler Murray', 'Trace McSorley',\n",
       "       'Justin Herbert', 'Derek Carr', 'Davante Adams', 'Mac Jones',\n",
       "       'Tua Tagovailoa', 'Marcus Mariota', 'Jameis Winston',\n",
       "       'Ryan Tannehill', 'Daniel Jones', 'Jared Goff', 'Jalen Hurts',\n",
       "       'Mitchell Trubisky', 'Joe Burrow', 'Justin Fields', 'Trey Lance',\n",
       "       'Dak Prescott', 'Tom Brady', 'Cooper Rush', 'Braden Mann',\n",
       "       'Jimmy Garoppolo', 'DeeJay Dallas', 'Malik Willis', 'Case Keenum',\n",
       "       'Teddy Bridgewater', 'Tommy Townsend', 'Mack Hollins',\n",
       "       'Tyrod Taylor', 'Tyler Boyd', 'Andy Dalton', 'Ryan Wright',\n",
       "       'Brian Hoyer', 'Bailey Zappe', 'Zach Wilson', 'Braxton Berrios',\n",
       "       'Kenny Pickett', 'Jack Fox'], dtype=object)"
      ]
     },
     "execution_count": 5,
     "metadata": {},
     "output_type": "execute_result"
    }
   ],
   "source": [
    "df_2022['player_name'].unique()"
   ]
  },
  {
   "cell_type": "code",
   "execution_count": 6,
   "metadata": {},
   "outputs": [],
   "source": [
    "# join with team table to get team color for plot\n",
    "df_2022 = df_2022.merge(df_teams[[\"team_abbr\", \"team_color\"]], left_on=\"posteam\", right_on=\"team_abbr\")\n"
   ]
  },
  {
   "cell_type": "code",
   "execution_count": 8,
   "metadata": {},
   "outputs": [],
   "source": [
    "df_agg = (\n",
    "    df_2022.groupby([\"player_name\", \"team_abbr\",\n",
    "                    \"team_color\", \"week\"], as_index=False)\n",
    "    .agg({\"passing_yards\": \"sum\", \"pass_touchdown\": \"sum\"})\n",
    ")\n"
   ]
  },
  {
   "cell_type": "code",
   "execution_count": 18,
   "metadata": {},
   "outputs": [
    {
     "data": {
      "text/html": [
       "<div>\n",
       "<style scoped>\n",
       "    .dataframe tbody tr th:only-of-type {\n",
       "        vertical-align: middle;\n",
       "    }\n",
       "\n",
       "    .dataframe tbody tr th {\n",
       "        vertical-align: top;\n",
       "    }\n",
       "\n",
       "    .dataframe thead th {\n",
       "        text-align: right;\n",
       "    }\n",
       "</style>\n",
       "<table border=\"1\" class=\"dataframe\">\n",
       "  <thead>\n",
       "    <tr style=\"text-align: right;\">\n",
       "      <th></th>\n",
       "      <th>player_name</th>\n",
       "      <th>team_abbr</th>\n",
       "      <th>team_color</th>\n",
       "      <th>week</th>\n",
       "      <th>passing_yards</th>\n",
       "      <th>pass_touchdown</th>\n",
       "    </tr>\n",
       "  </thead>\n",
       "  <tbody>\n",
       "    <tr>\n",
       "      <th>68</th>\n",
       "      <td>Josh Allen</td>\n",
       "      <td>BUF</td>\n",
       "      <td>#00338D</td>\n",
       "      <td>1</td>\n",
       "      <td>297.0</td>\n",
       "      <td>3.0</td>\n",
       "    </tr>\n",
       "    <tr>\n",
       "      <th>69</th>\n",
       "      <td>Josh Allen</td>\n",
       "      <td>BUF</td>\n",
       "      <td>#00338D</td>\n",
       "      <td>2</td>\n",
       "      <td>317.0</td>\n",
       "      <td>4.0</td>\n",
       "    </tr>\n",
       "    <tr>\n",
       "      <th>70</th>\n",
       "      <td>Josh Allen</td>\n",
       "      <td>BUF</td>\n",
       "      <td>#00338D</td>\n",
       "      <td>3</td>\n",
       "      <td>400.0</td>\n",
       "      <td>2.0</td>\n",
       "    </tr>\n",
       "    <tr>\n",
       "      <th>71</th>\n",
       "      <td>Josh Allen</td>\n",
       "      <td>BUF</td>\n",
       "      <td>#00338D</td>\n",
       "      <td>4</td>\n",
       "      <td>213.0</td>\n",
       "      <td>1.0</td>\n",
       "    </tr>\n",
       "  </tbody>\n",
       "</table>\n",
       "</div>"
      ],
      "text/plain": [
       "   player_name team_abbr team_color  week  passing_yards  pass_touchdown\n",
       "68  Josh Allen       BUF    #00338D     1          297.0             3.0\n",
       "69  Josh Allen       BUF    #00338D     2          317.0             4.0\n",
       "70  Josh Allen       BUF    #00338D     3          400.0             2.0\n",
       "71  Josh Allen       BUF    #00338D     4          213.0             1.0"
      ]
     },
     "execution_count": 18,
     "metadata": {},
     "output_type": "execute_result"
    }
   ],
   "source": [
    "df_agg[df_agg[\"player_name\"] == \"Josh Allen\"]"
   ]
  },
  {
   "cell_type": "code",
   "execution_count": 24,
   "metadata": {},
   "outputs": [
    {
     "data": {
      "text/plain": [
       "<matplotlib.axes._subplots.AxesSubplot at 0x7fde85c047d0>"
      ]
     },
     "execution_count": 24,
     "metadata": {},
     "output_type": "execute_result"
    },
    {
     "data": {
      "image/png": "[encoded data removed]",
      "text/plain": [
       "<Figure size 432x288 with 1 Axes>"
      ]
     },
     "metadata": {
      "needs_background": "light"
     },
     "output_type": "display_data"
    }
   ],
   "source": [
    "ja = df_agg[df_agg[\"player_name\"] == \"Josh Allen\"]\n",
    "\n",
    "ja.plot('week', 'pass_touchdown')"
   ]
  },
  {
   "cell_type": "code",
   "execution_count": 35,
   "metadata": {},
   "outputs": [
    {
     "name": "stdout",
     "output_type": "stream",
     "text": [
      "Aaron Rodgers 6.0\n",
      "Carson Wentz 8.0\n",
      "Derek Carr 6.0\n",
      "Geno Smith 6.0\n",
      "Jared Goff 11.0\n",
      "Joe Burrow 8.0\n",
      "Josh Allen 10.0\n",
      "Justin Herbert 9.0\n",
      "Kirk Cousins 6.0\n",
      "Lamar Jackson 11.0\n",
      "Patrick Mahomes 11.0\n",
      "Tom Brady 6.0\n",
      "Trevor Lawrence 8.0\n",
      "Tua Tagovailoa 8.0\n"
     ]
    }
   ],
   "source": [
    "for name, values in df_agg.groupby(\"player_name\"):\n",
    "    if values[\"pass_touchdown\"].sum() > 5:\n",
    "        print(name, values[\"pass_touchdown\"].sum())\n",
    "#         df_agg.plot.bar('player_name', 'pass_touchdown')"
   ]
  },
  {
   "cell_type": "code",
   "execution_count": 14,
   "metadata": {},
   "outputs": [
    {
     "data": {
      "application/vnd.plotly.v1+json": {
       "config": {
        "plotlyServerURL": "https://plot.ly"
       },
       "data": [
        {
         "hovertemplate": "<b>Aaron Rodgers</b><br>%{y} yds through week %{x}<extra></extra>",
         "line": {
          "color": "#203731"
         },
         "mode": "markers+lines",
         "name": "Aaron Rodgers",
         "type": "scatter",
         "x": [
          1,
          2,
          3,
          4
         ],
         "y": [
          195,
          429,
          684,
          935
         ]
        },
        {
         "hovertemplate": "<b>Andy Dalton</b><br>%{y} yds through week %{x}<extra></extra>",
         "line": {
          "color": "#D3BC8D"
         },
         "mode": "markers+lines",
         "name": "Andy Dalton",
         "type": "scatter",
         "x": [
          4
         ],
         "y": [
          236
         ]
        },
        {
         "hovertemplate": "<b>Bailey Zappe</b><br>%{y} yds through week %{x}<extra></extra>",
         "line": {
          "color": "#002244"
         },
         "mode": "markers+lines",
         "name": "Bailey Zappe",
         "type": "scatter",
         "x": [
          4
         ],
         "y": [
          99
         ]
        },
        {
         "hovertemplate": "<b>Baker Mayfield</b><br>%{y} yds through week %{x}<extra></extra>",
         "line": {
          "color": "#0085CA"
         },
         "mode": "markers+lines",
         "name": "Baker Mayfield",
         "type": "scatter",
         "x": [
          1,
          2,
          3,
          4
         ],
         "y": [
          235,
          380,
          550,
          747
         ]
        },
        {
         "hovertemplate": "<b>Braden Mann</b><br>%{y} yds through week %{x}<extra></extra>",
         "line": {
          "color": "#003F2D"
         },
         "mode": "markers+lines",
         "name": "Braden Mann",
         "type": "scatter",
         "x": [
          2
         ],
         "y": [
          17
         ]
        },
        {
         "hovertemplate": "<b>Braxton Berrios</b><br>%{y} yds through week %{x}<extra></extra>",
         "line": {
          "color": "#003F2D"
         },
         "mode": "markers+lines",
         "name": "Braxton Berrios",
         "type": "scatter",
         "x": [
          4
         ],
         "y": [
          2
         ]
        },
        {
         "hovertemplate": "<b>Brian Hoyer</b><br>%{y} yds through week %{x}<extra></extra>",
         "line": {
          "color": "#002244"
         },
         "mode": "markers+lines",
         "name": "Brian Hoyer",
         "type": "scatter",
         "x": [
          4
         ],
         "y": [
          37
         ]
        },
        {
         "hovertemplate": "<b>Carson Wentz</b><br>%{y} yds through week %{x}<extra></extra>",
         "line": {
          "color": "#5A1414"
         },
         "mode": "markers+lines",
         "name": "Carson Wentz",
         "type": "scatter",
         "x": [
          1,
          2,
          3,
          4
         ],
         "y": [
          313,
          650,
          861,
          1031
         ]
        },
        {
         "hovertemplate": "<b>Cooper Rush</b><br>%{y} yds through week %{x}<extra></extra>",
         "line": {
          "color": "#002244"
         },
         "mode": "markers+lines",
         "name": "Cooper Rush",
         "type": "scatter",
         "x": [
          1,
          2,
          3,
          4
         ],
         "y": [
          64,
          299,
          514,
          737
         ]
        },
        {
         "hovertemplate": "<b>Dak Prescott</b><br>%{y} yds through week %{x}<extra></extra>",
         "line": {
          "color": "#002244"
         },
         "mode": "markers+lines",
         "name": "Dak Prescott",
         "type": "scatter",
         "x": [
          1
         ],
         "y": [
          134
         ]
        },
        {
         "hovertemplate": "<b>Daniel Jones</b><br>%{y} yds through week %{x}<extra></extra>",
         "line": {
          "color": "#0B2265"
         },
         "mode": "markers+lines",
         "name": "Daniel Jones",
         "type": "scatter",
         "x": [
          1,
          2,
          3,
          4
         ],
         "y": [
          188,
          364,
          560,
          631
         ]
        },
        {
         "hovertemplate": "<b>Davis Mills</b><br>%{y} yds through week %{x}<extra></extra>",
         "line": {
          "color": "#03202F"
         },
         "mode": "markers+lines",
         "name": "Davis Mills",
         "type": "scatter",
         "x": [
          1,
          2,
          3,
          4
         ],
         "y": [
          240,
          417,
          662,
          908
         ]
        },
        {
         "hovertemplate": "<b>Derek Carr</b><br>%{y} yds through week %{x}<extra></extra>",
         "line": {
          "color": "#000000"
         },
         "mode": "markers+lines",
         "name": "Derek Carr",
         "type": "scatter",
         "x": [
          1,
          2,
          3,
          4
         ],
         "y": [
          295,
          547,
          850,
          1038
         ]
        },
        {
         "hovertemplate": "<b>Geno Smith</b><br>%{y} yds through week %{x}<extra></extra>",
         "line": {
          "color": "#002244"
         },
         "mode": "markers+lines",
         "name": "Geno Smith",
         "type": "scatter",
         "x": [
          1,
          2,
          3,
          4
         ],
         "y": [
          195,
          392,
          717,
          1037
         ]
        },
        {
         "hovertemplate": "<b>Jack Fox</b><br>%{y} yds through week %{x}<extra></extra>",
         "line": {
          "color": "#0076B6"
         },
         "mode": "markers+lines",
         "name": "Jack Fox",
         "type": "scatter",
         "x": [
          4
         ],
         "y": [
          6
         ]
        },
        {
         "hovertemplate": "<b>Jacoby Brissett</b><br>%{y} yds through week %{x}<extra></extra>",
         "line": {
          "color": "#FF3C00"
         },
         "mode": "markers+lines",
         "name": "Jacoby Brissett",
         "type": "scatter",
         "x": [
          1,
          2,
          3,
          4
         ],
         "y": [
          147,
          376,
          596,
          830
         ]
        },
        {
         "hovertemplate": "<b>Jalen Hurts</b><br>%{y} yds through week %{x}<extra></extra>",
         "line": {
          "color": "#004C54"
         },
         "mode": "markers+lines",
         "name": "Jalen Hurts",
         "type": "scatter",
         "x": [
          1,
          2,
          3,
          4
         ],
         "y": [
          243,
          576,
          916,
          1120
         ]
        },
        {
         "hovertemplate": "<b>Jameis Winston</b><br>%{y} yds through week %{x}<extra></extra>",
         "line": {
          "color": "#D3BC8D"
         },
         "mode": "markers+lines",
         "name": "Jameis Winston",
         "type": "scatter",
         "x": [
          1,
          2,
          3
         ],
         "y": [
          269,
          505,
          858
         ]
        },
        {
         "hovertemplate": "<b>Jared Goff</b><br>%{y} yds through week %{x}<extra></extra>",
         "line": {
          "color": "#0076B6"
         },
         "mode": "markers+lines",
         "name": "Jared Goff",
         "type": "scatter",
         "x": [
          1,
          2,
          3,
          4
         ],
         "y": [
          215,
          471,
          748,
          1126
         ]
        },
        {
         "hovertemplate": "<b>Jimmy Garoppolo</b><br>%{y} yds through week %{x}<extra></extra>",
         "line": {
          "color": "#AA0000"
         },
         "mode": "markers+lines",
         "name": "Jimmy Garoppolo",
         "type": "scatter",
         "x": [
          2,
          3,
          4
         ],
         "y": [
          154,
          365,
          604
         ]
        },
        {
         "hovertemplate": "<b>Joe Burrow</b><br>%{y} yds through week %{x}<extra></extra>",
         "line": {
          "color": "#FB4F14"
         },
         "mode": "markers+lines",
         "name": "Joe Burrow",
         "type": "scatter",
         "x": [
          1,
          2,
          3,
          4
         ],
         "y": [
          338,
          537,
          812,
          1099
         ]
        },
        {
         "hovertemplate": "<b>Joe Flacco</b><br>%{y} yds through week %{x}<extra></extra>",
         "line": {
          "color": "#003F2D"
         },
         "mode": "markers+lines",
         "name": "Joe Flacco",
         "type": "scatter",
         "x": [
          1,
          2,
          3
         ],
         "y": [
          309,
          616,
          901
         ]
        },
        {
         "hovertemplate": "<b>Jordan Love</b><br>%{y} yds through week %{x}<extra></extra>",
         "line": {
          "color": "#203731"
         },
         "mode": "markers+lines",
         "name": "Jordan Love",
         "type": "scatter",
         "x": [
          1
         ],
         "y": [
          65
         ]
        },
        {
         "hovertemplate": "<b>Josh Allen</b><br>%{y} yds through week %{x}<extra></extra>",
         "line": {
          "color": "#00338D"
         },
         "mode": "markers+lines",
         "name": "Josh Allen",
         "type": "scatter",
         "x": [
          1,
          2,
          3,
          4
         ],
         "y": [
          297,
          614,
          1014,
          1227
         ]
        },
        {
         "hovertemplate": "<b>Justin Fields</b><br>%{y} yds through week %{x}<extra></extra>",
         "line": {
          "color": "#0B162A"
         },
         "mode": "markers+lines",
         "name": "Justin Fields",
         "type": "scatter",
         "x": [
          1,
          2,
          3,
          4
         ],
         "y": [
          121,
          191,
          297,
          471
         ]
        },
        {
         "hovertemplate": "<b>Justin Herbert</b><br>%{y} yds through week %{x}<extra></extra>",
         "line": {
          "color": "#007BC7"
         },
         "mode": "markers+lines",
         "name": "Justin Herbert",
         "type": "scatter",
         "x": [
          1,
          2,
          3,
          4
         ],
         "y": [
          279,
          613,
          910,
          1250
         ]
        },
        {
         "hovertemplate": "<b>Kenny Pickett</b><br>%{y} yds through week %{x}<extra></extra>",
         "line": {
          "color": "#000000"
         },
         "mode": "markers+lines",
         "name": "Kenny Pickett",
         "type": "scatter",
         "x": [
          4
         ],
         "y": [
          120
         ]
        },
        {
         "hovertemplate": "<b>Kirk Cousins</b><br>%{y} yds through week %{x}<extra></extra>",
         "line": {
          "color": "#4F2683"
         },
         "mode": "markers+lines",
         "name": "Kirk Cousins",
         "type": "scatter",
         "x": [
          1,
          2,
          3,
          4
         ],
         "y": [
          277,
          498,
          758,
          1031
         ]
        },
        {
         "hovertemplate": "<b>Kyler Murray</b><br>%{y} yds through week %{x}<extra></extra>",
         "line": {
          "color": "#97233F"
         },
         "mode": "markers+lines",
         "name": "Kyler Murray",
         "type": "scatter",
         "x": [
          1,
          2,
          3,
          4
         ],
         "y": [
          193,
          470,
          784,
          991
         ]
        },
        {
         "hovertemplate": "<b>Lamar Jackson</b><br>%{y} yds through week %{x}<extra></extra>",
         "line": {
          "color": "#241773"
         },
         "mode": "markers+lines",
         "name": "Lamar Jackson",
         "type": "scatter",
         "x": [
          1,
          2,
          3,
          4
         ],
         "y": [
          213,
          531,
          749,
          893
         ]
        },
        {
         "hovertemplate": "<b>Mac Jones</b><br>%{y} yds through week %{x}<extra></extra>",
         "line": {
          "color": "#002244"
         },
         "mode": "markers+lines",
         "name": "Mac Jones",
         "type": "scatter",
         "x": [
          1,
          2,
          3
         ],
         "y": [
          213,
          465,
          786
         ]
        },
        {
         "hovertemplate": "<b>Mack Hollins</b><br>%{y} yds through week %{x}<extra></extra>",
         "line": {
          "color": "#000000"
         },
         "mode": "markers+lines",
         "name": "Mack Hollins",
         "type": "scatter",
         "x": [
          3
         ],
         "y": [
          4
         ]
        },
        {
         "hovertemplate": "<b>Malik Willis</b><br>%{y} yds through week %{x}<extra></extra>",
         "line": {
          "color": "#002244"
         },
         "mode": "markers+lines",
         "name": "Malik Willis",
         "type": "scatter",
         "x": [
          2
         ],
         "y": [
          6
         ]
        },
        {
         "hovertemplate": "<b>Marcus Mariota</b><br>%{y} yds through week %{x}<extra></extra>",
         "line": {
          "color": "#A71930"
         },
         "mode": "markers+lines",
         "name": "Marcus Mariota",
         "type": "scatter",
         "x": [
          1,
          2,
          3,
          4
         ],
         "y": [
          215,
          411,
          640,
          779
         ]
        },
        {
         "hovertemplate": "<b>Matt Ryan</b><br>%{y} yds through week %{x}<extra></extra>",
         "line": {
          "color": "#002C5F"
         },
         "mode": "markers+lines",
         "name": "Matt Ryan",
         "type": "scatter",
         "x": [
          1,
          2,
          3,
          4
         ],
         "y": [
          352,
          547,
          769,
          1125
         ]
        },
        {
         "hovertemplate": "<b>Matthew Stafford</b><br>%{y} yds through week %{x}<extra></extra>",
         "line": {
          "color": "#003594"
         },
         "mode": "markers+lines",
         "name": "Matthew Stafford",
         "type": "scatter",
         "x": [
          1,
          2,
          3,
          4
         ],
         "y": [
          240,
          512,
          761,
          1015
         ]
        },
        {
         "hovertemplate": "<b>Mitchell Trubisky</b><br>%{y} yds through week %{x}<extra></extra>",
         "line": {
          "color": "#000000"
         },
         "mode": "markers+lines",
         "name": "Mitchell Trubisky",
         "type": "scatter",
         "x": [
          1,
          2,
          3,
          4
         ],
         "y": [
          194,
          362,
          569,
          653
         ]
        },
        {
         "hovertemplate": "<b>Patrick Mahomes</b><br>%{y} yds through week %{x}<extra></extra>",
         "line": {
          "color": "#E31837"
         },
         "mode": "markers+lines",
         "name": "Patrick Mahomes",
         "type": "scatter",
         "x": [
          1,
          2,
          3,
          4
         ],
         "y": [
          360,
          595,
          857,
          1106
         ]
        },
        {
         "hovertemplate": "<b>Russell Wilson</b><br>%{y} yds through week %{x}<extra></extra>",
         "line": {
          "color": "#002244"
         },
         "mode": "markers+lines",
         "name": "Russell Wilson",
         "type": "scatter",
         "x": [
          1,
          2,
          3,
          4
         ],
         "y": [
          340,
          559,
          743,
          980
         ]
        },
        {
         "hovertemplate": "<b>Ryan Tannehill</b><br>%{y} yds through week %{x}<extra></extra>",
         "line": {
          "color": "#002244"
         },
         "mode": "markers+lines",
         "name": "Ryan Tannehill",
         "type": "scatter",
         "x": [
          1,
          2,
          3,
          4
         ],
         "y": [
          266,
          383,
          647,
          784
         ]
        },
        {
         "hovertemplate": "<b>Ryan Wright</b><br>%{y} yds through week %{x}<extra></extra>",
         "line": {
          "color": "#4F2683"
         },
         "mode": "markers+lines",
         "name": "Ryan Wright",
         "type": "scatter",
         "x": [
          4
         ],
         "y": [
          13
         ]
        },
        {
         "hovertemplate": "<b>Teddy Bridgewater</b><br>%{y} yds through week %{x}<extra></extra>",
         "line": {
          "color": "#008E97"
         },
         "mode": "markers+lines",
         "name": "Teddy Bridgewater",
         "type": "scatter",
         "x": [
          3,
          4
         ],
         "y": [
          0,
          193
         ]
        },
        {
         "hovertemplate": "<b>Tom Brady</b><br>%{y} yds through week %{x}<extra></extra>",
         "line": {
          "color": "#A71930"
         },
         "mode": "markers+lines",
         "name": "Tom Brady",
         "type": "scatter",
         "x": [
          1,
          2,
          3,
          4
         ],
         "y": [
          212,
          402,
          673,
          1058
         ]
        },
        {
         "hovertemplate": "<b>Trace McSorley</b><br>%{y} yds through week %{x}<extra></extra>",
         "line": {
          "color": "#97233F"
         },
         "mode": "markers+lines",
         "name": "Trace McSorley",
         "type": "scatter",
         "x": [
          1
         ],
         "y": [
          12
         ]
        },
        {
         "hovertemplate": "<b>Trevor Lawrence</b><br>%{y} yds through week %{x}<extra></extra>",
         "line": {
          "color": "#006778"
         },
         "mode": "markers+lines",
         "name": "Trevor Lawrence",
         "type": "scatter",
         "x": [
          1,
          2,
          3,
          4
         ],
         "y": [
          275,
          510,
          772,
          946
         ]
        },
        {
         "hovertemplate": "<b>Trey Lance</b><br>%{y} yds through week %{x}<extra></extra>",
         "line": {
          "color": "#AA0000"
         },
         "mode": "markers+lines",
         "name": "Trey Lance",
         "type": "scatter",
         "x": [
          1,
          2
         ],
         "y": [
          164,
          194
         ]
        },
        {
         "hovertemplate": "<b>Tua Tagovailoa</b><br>%{y} yds through week %{x}<extra></extra>",
         "line": {
          "color": "#008E97"
         },
         "mode": "markers+lines",
         "name": "Tua Tagovailoa",
         "type": "scatter",
         "x": [
          1,
          2,
          3,
          4
         ],
         "y": [
          270,
          739,
          925,
          1035
         ]
        },
        {
         "hovertemplate": "<b>Tyler Boyd</b><br>%{y} yds through week %{x}<extra></extra>",
         "line": {
          "color": "#FB4F14"
         },
         "mode": "markers+lines",
         "name": "Tyler Boyd",
         "type": "scatter",
         "x": [
          4
         ],
         "y": [
          23
         ]
        },
        {
         "hovertemplate": "<b>Tyrod Taylor</b><br>%{y} yds through week %{x}<extra></extra>",
         "line": {
          "color": "#0B2265"
         },
         "mode": "markers+lines",
         "name": "Tyrod Taylor",
         "type": "scatter",
         "x": [
          4
         ],
         "y": [
          11
         ]
        },
        {
         "hovertemplate": "<b>Zach Wilson</b><br>%{y} yds through week %{x}<extra></extra>",
         "line": {
          "color": "#003F2D"
         },
         "mode": "markers+lines",
         "name": "Zach Wilson",
         "type": "scatter",
         "x": [
          4
         ],
         "y": [
          252
         ]
        }
       ],
       "layout": {
        "template": {
         "data": {
          "bar": [
           {
            "error_x": {
             "color": "#2a3f5f"
            },
            "error_y": {
             "color": "#2a3f5f"
            },
            "marker": {
             "line": {
              "color": "#E5ECF6",
              "width": 0.5
             },
             "pattern": {
              "fillmode": "overlay",
              "size": 10,
              "solidity": 0.2
             }
            },
            "type": "bar"
           }
          ],
          "barpolar": [
           {
            "marker": {
             "line": {
              "color": "#E5ECF6",
              "width": 0.5
             },
             "pattern": {
              "fillmode": "overlay",
              "size": 10,
              "solidity": 0.2
             }
            },
            "type": "barpolar"
           }
          ],
          "carpet": [
           {
            "aaxis": {
             "endlinecolor": "#2a3f5f",
             "gridcolor": "white",
             "linecolor": "white",
             "minorgridcolor": "white",
             "startlinecolor": "#2a3f5f"
            },
            "baxis": {
             "endlinecolor": "#2a3f5f",
             "gridcolor": "white",
             "linecolor": "white",
             "minorgridcolor": "white",
             "startlinecolor": "#2a3f5f"
            },
            "type": "carpet"
           }
          ],
          "choropleth": [
           {
            "colorbar": {
             "outlinewidth": 0,
             "ticks": ""
            },
            "type": "choropleth"
           }
          ],
          "contour": [
           {
            "colorbar": {
             "outlinewidth": 0,
             "ticks": ""
            },
            "colorscale": [
             [
              0,
              "#0d0887"
             ],
             [
              0.1111111111111111,
              "#46039f"
             ],
             [
              0.2222222222222222,
              "#7201a8"
             ],
             [
              0.3333333333333333,
              "#9c179e"
             ],
             [
              0.4444444444444444,
              "#bd3786"
             ],
             [
              0.5555555555555556,
              "#d8576b"
             ],
             [
              0.6666666666666666,
              "#ed7953"
             ],
             [
              0.7777777777777778,
              "#fb9f3a"
             ],
             [
              0.8888888888888888,
              "#fdca26"
             ],
             [
              1,
              "#f0f921"
             ]
            ],
            "type": "contour"
           }
          ],
          "contourcarpet": [
           {
            "colorbar": {
             "outlinewidth": 0,
             "ticks": ""
            },
            "type": "contourcarpet"
           }
          ],
          "heatmap": [
           {
            "colorbar": {
             "outlinewidth": 0,
             "ticks": ""
            },
            "colorscale": [
             [
              0,
              "#0d0887"
             ],
             [
              0.1111111111111111,
              "#46039f"
             ],
             [
              0.2222222222222222,
              "#7201a8"
             ],
             [
              0.3333333333333333,
              "#9c179e"
             ],
             [
              0.4444444444444444,
              "#bd3786"
             ],
             [
              0.5555555555555556,
              "#d8576b"
             ],
             [
              0.6666666666666666,
              "#ed7953"
             ],
             [
              0.7777777777777778,
              "#fb9f3a"
             ],
             [
              0.8888888888888888,
              "#fdca26"
             ],
             [
              1,
              "#f0f921"
             ]
            ],
            "type": "heatmap"
           }
          ],
          "heatmapgl": [
           {
            "colorbar": {
             "outlinewidth": 0,
             "ticks": ""
            },
            "colorscale": [
             [
              0,
              "#0d0887"
             ],
             [
              0.1111111111111111,
              "#46039f"
             ],
             [
              0.2222222222222222,
              "#7201a8"
             ],
             [
              0.3333333333333333,
              "#9c179e"
             ],
             [
              0.4444444444444444,
              "#bd3786"
             ],
             [
              0.5555555555555556,
              "#d8576b"
             ],
             [
              0.6666666666666666,
              "#ed7953"
             ],
             [
              0.7777777777777778,
              "#fb9f3a"
             ],
             [
              0.8888888888888888,
              "#fdca26"
             ],
             [
              1,
              "#f0f921"
             ]
            ],
            "type": "heatmapgl"
           }
          ],
          "histogram": [
           {
            "marker": {
             "pattern": {
              "fillmode": "overlay",
              "size": 10,
              "solidity": 0.2
             }
            },
            "type": "histogram"
           }
          ],
          "histogram2d": [
           {
            "colorbar": {
             "outlinewidth": 0,
             "ticks": ""
            },
            "colorscale": [
             [
              0,
              "#0d0887"
             ],
             [
              0.1111111111111111,
              "#46039f"
             ],
             [
              0.2222222222222222,
              "#7201a8"
             ],
             [
              0.3333333333333333,
              "#9c179e"
             ],
             [
              0.4444444444444444,
              "#bd3786"
             ],
             [
              0.5555555555555556,
              "#d8576b"
             ],
             [
              0.6666666666666666,
              "#ed7953"
             ],
             [
              0.7777777777777778,
              "#fb9f3a"
             ],
             [
              0.8888888888888888,
              "#fdca26"
             ],
             [
              1,
              "#f0f921"
             ]
            ],
            "type": "histogram2d"
           }
          ],
          "histogram2dcontour": [
           {
            "colorbar": {
             "outlinewidth": 0,
             "ticks": ""
            },
            "colorscale": [
             [
              0,
              "#0d0887"
             ],
             [
              0.1111111111111111,
              "#46039f"
             ],
             [
              0.2222222222222222,
              "#7201a8"
             ],
             [
              0.3333333333333333,
              "#9c179e"
             ],
             [
              0.4444444444444444,
              "#bd3786"
             ],
             [
              0.5555555555555556,
              "#d8576b"
             ],
             [
              0.6666666666666666,
              "#ed7953"
             ],
             [
              0.7777777777777778,
              "#fb9f3a"
             ],
             [
              0.8888888888888888,
              "#fdca26"
             ],
             [
              1,
              "#f0f921"
             ]
            ],
            "type": "histogram2dcontour"
           }
          ],
          "mesh3d": [
           {
            "colorbar": {
             "outlinewidth": 0,
             "ticks": ""
            },
            "type": "mesh3d"
           }
          ],
          "parcoords": [
           {
            "line": {
             "colorbar": {
              "outlinewidth": 0,
              "ticks": ""
             }
            },
            "type": "parcoords"
           }
          ],
          "pie": [
           {
            "automargin": true,
            "type": "pie"
           }
          ],
          "scatter": [
           {
            "fillpattern": {
             "fillmode": "overlay",
             "size": 10,
             "solidity": 0.2
            },
            "type": "scatter"
           }
          ],
          "scatter3d": [
           {
            "line": {
             "colorbar": {
              "outlinewidth": 0,
              "ticks": ""
             }
            },
            "marker": {
             "colorbar": {
              "outlinewidth": 0,
              "ticks": ""
             }
            },
            "type": "scatter3d"
           }
          ],
          "scattercarpet": [
           {
            "marker": {
             "colorbar": {
              "outlinewidth": 0,
              "ticks": ""
             }
            },
            "type": "scattercarpet"
           }
          ],
          "scattergeo": [
           {
            "marker": {
             "colorbar": {
              "outlinewidth": 0,
              "ticks": ""
             }
            },
            "type": "scattergeo"
           }
          ],
          "scattergl": [
           {
            "marker": {
             "colorbar": {
              "outlinewidth": 0,
              "ticks": ""
             }
            },
            "type": "scattergl"
           }
          ],
          "scattermapbox": [
           {
            "marker": {
             "colorbar": {
              "outlinewidth": 0,
              "ticks": ""
             }
            },
            "type": "scattermapbox"
           }
          ],
          "scatterpolar": [
           {
            "marker": {
             "colorbar": {
              "outlinewidth": 0,
              "ticks": ""
             }
            },
            "type": "scatterpolar"
           }
          ],
          "scatterpolargl": [
           {
            "marker": {
             "colorbar": {
              "outlinewidth": 0,
              "ticks": ""
             }
            },
            "type": "scatterpolargl"
           }
          ],
          "scatterternary": [
           {
            "marker": {
             "colorbar": {
              "outlinewidth": 0,
              "ticks": ""
             }
            },
            "type": "scatterternary"
           }
          ],
          "surface": [
           {
            "colorbar": {
             "outlinewidth": 0,
             "ticks": ""
            },
            "colorscale": [
             [
              0,
              "#0d0887"
             ],
             [
              0.1111111111111111,
              "#46039f"
             ],
             [
              0.2222222222222222,
              "#7201a8"
             ],
             [
              0.3333333333333333,
              "#9c179e"
             ],
             [
              0.4444444444444444,
              "#bd3786"
             ],
             [
              0.5555555555555556,
              "#d8576b"
             ],
             [
              0.6666666666666666,
              "#ed7953"
             ],
             [
              0.7777777777777778,
              "#fb9f3a"
             ],
             [
              0.8888888888888888,
              "#fdca26"
             ],
             [
              1,
              "#f0f921"
             ]
            ],
            "type": "surface"
           }
          ],
          "table": [
           {
            "cells": {
             "fill": {
              "color": "#EBF0F8"
             },
             "line": {
              "color": "white"
             }
            },
            "header": {
             "fill": {
              "color": "#C8D4E3"
             },
             "line": {
              "color": "white"
             }
            },
            "type": "table"
           }
          ]
         },
         "layout": {
          "annotationdefaults": {
           "arrowcolor": "#2a3f5f",
           "arrowhead": 0,
           "arrowwidth": 1
          },
          "autotypenumbers": "strict",
          "coloraxis": {
           "colorbar": {
            "outlinewidth": 0,
            "ticks": ""
           }
          },
          "colorscale": {
           "diverging": [
            [
             0,
             "#8e0152"
            ],
            [
             0.1,
             "#c51b7d"
            ],
            [
             0.2,
             "#de77ae"
            ],
            [
             0.3,
             "#f1b6da"
            ],
            [
             0.4,
             "#fde0ef"
            ],
            [
             0.5,
             "#f7f7f7"
            ],
            [
             0.6,
             "#e6f5d0"
            ],
            [
             0.7,
             "#b8e186"
            ],
            [
             0.8,
             "#7fbc41"
            ],
            [
             0.9,
             "#4d9221"
            ],
            [
             1,
             "#276419"
            ]
           ],
           "sequential": [
            [
             0,
             "#0d0887"
            ],
            [
             0.1111111111111111,
             "#46039f"
            ],
            [
             0.2222222222222222,
             "#7201a8"
            ],
            [
             0.3333333333333333,
             "#9c179e"
            ],
            [
             0.4444444444444444,
             "#bd3786"
            ],
            [
             0.5555555555555556,
             "#d8576b"
            ],
            [
             0.6666666666666666,
             "#ed7953"
            ],
            [
             0.7777777777777778,
             "#fb9f3a"
            ],
            [
             0.8888888888888888,
             "#fdca26"
            ],
            [
             1,
             "#f0f921"
            ]
           ],
           "sequentialminus": [
            [
             0,
             "#0d0887"
            ],
            [
             0.1111111111111111,
             "#46039f"
            ],
            [
             0.2222222222222222,
             "#7201a8"
            ],
            [
             0.3333333333333333,
             "#9c179e"
            ],
            [
             0.4444444444444444,
             "#bd3786"
            ],
            [
             0.5555555555555556,
             "#d8576b"
            ],
            [
             0.6666666666666666,
             "#ed7953"
            ],
            [
             0.7777777777777778,
             "#fb9f3a"
            ],
            [
             0.8888888888888888,
             "#fdca26"
            ],
            [
             1,
             "#f0f921"
            ]
           ]
          },
          "colorway": [
           "#636efa",
           "#EF553B",
           "#00cc96",
           "#ab63fa",
           "#FFA15A",
           "#19d3f3",
           "#FF6692",
           "#B6E880",
           "#FF97FF",
           "#FECB52"
          ],
          "font": {
           "color": "#2a3f5f"
          },
          "geo": {
           "bgcolor": "white",
           "lakecolor": "white",
           "landcolor": "#E5ECF6",
           "showlakes": true,
           "showland": true,
           "subunitcolor": "white"
          },
          "hoverlabel": {
           "align": "left"
          },
          "hovermode": "closest",
          "mapbox": {
           "style": "light"
          },
          "paper_bgcolor": "white",
          "plot_bgcolor": "#E5ECF6",
          "polar": {
           "angularaxis": {
            "gridcolor": "white",
            "linecolor": "white",
            "ticks": ""
           },
           "bgcolor": "#E5ECF6",
           "radialaxis": {
            "gridcolor": "white",
            "linecolor": "white",
            "ticks": ""
           }
          },
          "scene": {
           "xaxis": {
            "backgroundcolor": "#E5ECF6",
            "gridcolor": "white",
            "gridwidth": 2,
            "linecolor": "white",
            "showbackground": true,
            "ticks": "",
            "zerolinecolor": "white"
           },
           "yaxis": {
            "backgroundcolor": "#E5ECF6",
            "gridcolor": "white",
            "gridwidth": 2,
            "linecolor": "white",
            "showbackground": true,
            "ticks": "",
            "zerolinecolor": "white"
           },
           "zaxis": {
            "backgroundcolor": "#E5ECF6",
            "gridcolor": "white",
            "gridwidth": 2,
            "linecolor": "white",
            "showbackground": true,
            "ticks": "",
            "zerolinecolor": "white"
           }
          },
          "shapedefaults": {
           "line": {
            "color": "#2a3f5f"
           }
          },
          "ternary": {
           "aaxis": {
            "gridcolor": "white",
            "linecolor": "white",
            "ticks": ""
           },
           "baxis": {
            "gridcolor": "white",
            "linecolor": "white",
            "ticks": ""
           },
           "bgcolor": "#E5ECF6",
           "caxis": {
            "gridcolor": "white",
            "linecolor": "white",
            "ticks": ""
           }
          },
          "title": {
           "x": 0.05
          },
          "xaxis": {
           "automargin": true,
           "gridcolor": "white",
           "linecolor": "white",
           "ticks": "",
           "title": {
            "standoff": 15
           },
           "zerolinecolor": "white",
           "zerolinewidth": 2
          },
          "yaxis": {
           "automargin": true,
           "gridcolor": "white",
           "linecolor": "white",
           "ticks": "",
           "title": {
            "standoff": 15
           },
           "zerolinecolor": "white",
           "zerolinewidth": 2
          }
         }
        }
       }
      },
      "text/html": [
       "<div>                            <div id=\"30cb94ac-c9a7-4135-b954-ea987eccd863\" class=\"plotly-graph-div\" style=\"height:525px; width:100%;\"></div>            <script type=\"text/javascript\">                require([\"plotly\"], function(Plotly) {                    window.PLOTLYENV=window.PLOTLYENV || {};                                    if (document.getElementById(\"30cb94ac-c9a7-4135-b954-ea987eccd863\")) {                    Plotly.newPlot(                        \"30cb94ac-c9a7-4135-b954-ea987eccd863\",                        [{\"hovertemplate\":\"<b>Aaron Rodgers</b><br>%{y} yds through week %{x}<extra></extra>\",\"line\":{\"color\":\"#203731\"},\"mode\":\"markers+lines\",\"name\":\"Aaron Rodgers\",\"x\":[1,2,3,4],\"y\":[195.0,429.0,684.0,935.0],\"type\":\"scatter\"},{\"hovertemplate\":\"<b>Andy Dalton</b><br>%{y} yds through week %{x}<extra></extra>\",\"line\":{\"color\":\"#D3BC8D\"},\"mode\":\"markers+lines\",\"name\":\"Andy Dalton\",\"x\":[4],\"y\":[236.0],\"type\":\"scatter\"},{\"hovertemplate\":\"<b>Bailey Zappe</b><br>%{y} yds through week %{x}<extra></extra>\",\"line\":{\"color\":\"#002244\"},\"mode\":\"markers+lines\",\"name\":\"Bailey Zappe\",\"x\":[4],\"y\":[99.0],\"type\":\"scatter\"},{\"hovertemplate\":\"<b>Baker Mayfield</b><br>%{y} yds through week %{x}<extra></extra>\",\"line\":{\"color\":\"#0085CA\"},\"mode\":\"markers+lines\",\"name\":\"Baker Mayfield\",\"x\":[1,2,3,4],\"y\":[235.0,380.0,550.0,747.0],\"type\":\"scatter\"},{\"hovertemplate\":\"<b>Braden Mann</b><br>%{y} yds through week %{x}<extra></extra>\",\"line\":{\"color\":\"#003F2D\"},\"mode\":\"markers+lines\",\"name\":\"Braden Mann\",\"x\":[2],\"y\":[17.0],\"type\":\"scatter\"},{\"hovertemplate\":\"<b>Braxton Berrios</b><br>%{y} yds through week %{x}<extra></extra>\",\"line\":{\"color\":\"#003F2D\"},\"mode\":\"markers+lines\",\"name\":\"Braxton Berrios\",\"x\":[4],\"y\":[2.0],\"type\":\"scatter\"},{\"hovertemplate\":\"<b>Brian Hoyer</b><br>%{y} yds through week %{x}<extra></extra>\",\"line\":{\"color\":\"#002244\"},\"mode\":\"markers+lines\",\"name\":\"Brian Hoyer\",\"x\":[4],\"y\":[37.0],\"type\":\"scatter\"},{\"hovertemplate\":\"<b>Carson Wentz</b><br>%{y} yds through week %{x}<extra></extra>\",\"line\":{\"color\":\"#5A1414\"},\"mode\":\"markers+lines\",\"name\":\"Carson Wentz\",\"x\":[1,2,3,4],\"y\":[313.0,650.0,861.0,1031.0],\"type\":\"scatter\"},{\"hovertemplate\":\"<b>Cooper Rush</b><br>%{y} yds through week %{x}<extra></extra>\",\"line\":{\"color\":\"#002244\"},\"mode\":\"markers+lines\",\"name\":\"Cooper Rush\",\"x\":[1,2,3,4],\"y\":[64.0,299.0,514.0,737.0],\"type\":\"scatter\"},{\"hovertemplate\":\"<b>Dak Prescott</b><br>%{y} yds through week %{x}<extra></extra>\",\"line\":{\"color\":\"#002244\"},\"mode\":\"markers+lines\",\"name\":\"Dak Prescott\",\"x\":[1],\"y\":[134.0],\"type\":\"scatter\"},{\"hovertemplate\":\"<b>Daniel Jones</b><br>%{y} yds through week %{x}<extra></extra>\",\"line\":{\"color\":\"#0B2265\"},\"mode\":\"markers+lines\",\"name\":\"Daniel Jones\",\"x\":[1,2,3,4],\"y\":[188.0,364.0,560.0,631.0],\"type\":\"scatter\"},{\"hovertemplate\":\"<b>Davis Mills</b><br>%{y} yds through week %{x}<extra></extra>\",\"line\":{\"color\":\"#03202F\"},\"mode\":\"markers+lines\",\"name\":\"Davis Mills\",\"x\":[1,2,3,4],\"y\":[240.0,417.0,662.0,908.0],\"type\":\"scatter\"},{\"hovertemplate\":\"<b>Derek Carr</b><br>%{y} yds through week %{x}<extra></extra>\",\"line\":{\"color\":\"#000000\"},\"mode\":\"markers+lines\",\"name\":\"Derek Carr\",\"x\":[1,2,3,4],\"y\":[295.0,547.0,850.0,1038.0],\"type\":\"scatter\"},{\"hovertemplate\":\"<b>Geno Smith</b><br>%{y} yds through week %{x}<extra></extra>\",\"line\":{\"color\":\"#002244\"},\"mode\":\"markers+lines\",\"name\":\"Geno Smith\",\"x\":[1,2,3,4],\"y\":[195.0,392.0,717.0,1037.0],\"type\":\"scatter\"},{\"hovertemplate\":\"<b>Jack Fox</b><br>%{y} yds through week %{x}<extra></extra>\",\"line\":{\"color\":\"#0076B6\"},\"mode\":\"markers+lines\",\"name\":\"Jack Fox\",\"x\":[4],\"y\":[6.0],\"type\":\"scatter\"},{\"hovertemplate\":\"<b>Jacoby Brissett</b><br>%{y} yds through week %{x}<extra></extra>\",\"line\":{\"color\":\"#FF3C00\"},\"mode\":\"markers+lines\",\"name\":\"Jacoby Brissett\",\"x\":[1,2,3,4],\"y\":[147.0,376.0,596.0,830.0],\"type\":\"scatter\"},{\"hovertemplate\":\"<b>Jalen Hurts</b><br>%{y} yds through week %{x}<extra></extra>\",\"line\":{\"color\":\"#004C54\"},\"mode\":\"markers+lines\",\"name\":\"Jalen Hurts\",\"x\":[1,2,3,4],\"y\":[243.0,576.0,916.0,1120.0],\"type\":\"scatter\"},{\"hovertemplate\":\"<b>Jameis Winston</b><br>%{y} yds through week %{x}<extra></extra>\",\"line\":{\"color\":\"#D3BC8D\"},\"mode\":\"markers+lines\",\"name\":\"Jameis Winston\",\"x\":[1,2,3],\"y\":[269.0,505.0,858.0],\"type\":\"scatter\"},{\"hovertemplate\":\"<b>Jared Goff</b><br>%{y} yds through week %{x}<extra></extra>\",\"line\":{\"color\":\"#0076B6\"},\"mode\":\"markers+lines\",\"name\":\"Jared Goff\",\"x\":[1,2,3,4],\"y\":[215.0,471.0,748.0,1126.0],\"type\":\"scatter\"},{\"hovertemplate\":\"<b>Jimmy Garoppolo</b><br>%{y} yds through week %{x}<extra></extra>\",\"line\":{\"color\":\"#AA0000\"},\"mode\":\"markers+lines\",\"name\":\"Jimmy Garoppolo\",\"x\":[2,3,4],\"y\":[154.0,365.0,604.0],\"type\":\"scatter\"},{\"hovertemplate\":\"<b>Joe Burrow</b><br>%{y} yds through week %{x}<extra></extra>\",\"line\":{\"color\":\"#FB4F14\"},\"mode\":\"markers+lines\",\"name\":\"Joe Burrow\",\"x\":[1,2,3,4],\"y\":[338.0,537.0,812.0,1099.0],\"type\":\"scatter\"},{\"hovertemplate\":\"<b>Joe Flacco</b><br>%{y} yds through week %{x}<extra></extra>\",\"line\":{\"color\":\"#003F2D\"},\"mode\":\"markers+lines\",\"name\":\"Joe Flacco\",\"x\":[1,2,3],\"y\":[309.0,616.0,901.0],\"type\":\"scatter\"},{\"hovertemplate\":\"<b>Jordan Love</b><br>%{y} yds through week %{x}<extra></extra>\",\"line\":{\"color\":\"#203731\"},\"mode\":\"markers+lines\",\"name\":\"Jordan Love\",\"x\":[1],\"y\":[65.0],\"type\":\"scatter\"},{\"hovertemplate\":\"<b>Josh Allen</b><br>%{y} yds through week %{x}<extra></extra>\",\"line\":{\"color\":\"#00338D\"},\"mode\":\"markers+lines\",\"name\":\"Josh Allen\",\"x\":[1,2,3,4],\"y\":[297.0,614.0,1014.0,1227.0],\"type\":\"scatter\"},{\"hovertemplate\":\"<b>Justin Fields</b><br>%{y} yds through week %{x}<extra></extra>\",\"line\":{\"color\":\"#0B162A\"},\"mode\":\"markers+lines\",\"name\":\"Justin Fields\",\"x\":[1,2,3,4],\"y\":[121.0,191.0,297.0,471.0],\"type\":\"scatter\"},{\"hovertemplate\":\"<b>Justin Herbert</b><br>%{y} yds through week %{x}<extra></extra>\",\"line\":{\"color\":\"#007BC7\"},\"mode\":\"markers+lines\",\"name\":\"Justin Herbert\",\"x\":[1,2,3,4],\"y\":[279.0,613.0,910.0,1250.0],\"type\":\"scatter\"},{\"hovertemplate\":\"<b>Kenny Pickett</b><br>%{y} yds through week %{x}<extra></extra>\",\"line\":{\"color\":\"#000000\"},\"mode\":\"markers+lines\",\"name\":\"Kenny Pickett\",\"x\":[4],\"y\":[120.0],\"type\":\"scatter\"},{\"hovertemplate\":\"<b>Kirk Cousins</b><br>%{y} yds through week %{x}<extra></extra>\",\"line\":{\"color\":\"#4F2683\"},\"mode\":\"markers+lines\",\"name\":\"Kirk Cousins\",\"x\":[1,2,3,4],\"y\":[277.0,498.0,758.0,1031.0],\"type\":\"scatter\"},{\"hovertemplate\":\"<b>Kyler Murray</b><br>%{y} yds through week %{x}<extra></extra>\",\"line\":{\"color\":\"#97233F\"},\"mode\":\"markers+lines\",\"name\":\"Kyler Murray\",\"x\":[1,2,3,4],\"y\":[193.0,470.0,784.0,991.0],\"type\":\"scatter\"},{\"hovertemplate\":\"<b>Lamar Jackson</b><br>%{y} yds through week %{x}<extra></extra>\",\"line\":{\"color\":\"#241773\"},\"mode\":\"markers+lines\",\"name\":\"Lamar Jackson\",\"x\":[1,2,3,4],\"y\":[213.0,531.0,749.0,893.0],\"type\":\"scatter\"},{\"hovertemplate\":\"<b>Mac Jones</b><br>%{y} yds through week %{x}<extra></extra>\",\"line\":{\"color\":\"#002244\"},\"mode\":\"markers+lines\",\"name\":\"Mac Jones\",\"x\":[1,2,3],\"y\":[213.0,465.0,786.0],\"type\":\"scatter\"},{\"hovertemplate\":\"<b>Mack Hollins</b><br>%{y} yds through week %{x}<extra></extra>\",\"line\":{\"color\":\"#000000\"},\"mode\":\"markers+lines\",\"name\":\"Mack Hollins\",\"x\":[3],\"y\":[4.0],\"type\":\"scatter\"},{\"hovertemplate\":\"<b>Malik Willis</b><br>%{y} yds through week %{x}<extra></extra>\",\"line\":{\"color\":\"#002244\"},\"mode\":\"markers+lines\",\"name\":\"Malik Willis\",\"x\":[2],\"y\":[6.0],\"type\":\"scatter\"},{\"hovertemplate\":\"<b>Marcus Mariota</b><br>%{y} yds through week %{x}<extra></extra>\",\"line\":{\"color\":\"#A71930\"},\"mode\":\"markers+lines\",\"name\":\"Marcus Mariota\",\"x\":[1,2,3,4],\"y\":[215.0,411.0,640.0,779.0],\"type\":\"scatter\"},{\"hovertemplate\":\"<b>Matt Ryan</b><br>%{y} yds through week %{x}<extra></extra>\",\"line\":{\"color\":\"#002C5F\"},\"mode\":\"markers+lines\",\"name\":\"Matt Ryan\",\"x\":[1,2,3,4],\"y\":[352.0,547.0,769.0,1125.0],\"type\":\"scatter\"},{\"hovertemplate\":\"<b>Matthew Stafford</b><br>%{y} yds through week %{x}<extra></extra>\",\"line\":{\"color\":\"#003594\"},\"mode\":\"markers+lines\",\"name\":\"Matthew Stafford\",\"x\":[1,2,3,4],\"y\":[240.0,512.0,761.0,1015.0],\"type\":\"scatter\"},{\"hovertemplate\":\"<b>Mitchell Trubisky</b><br>%{y} yds through week %{x}<extra></extra>\",\"line\":{\"color\":\"#000000\"},\"mode\":\"markers+lines\",\"name\":\"Mitchell Trubisky\",\"x\":[1,2,3,4],\"y\":[194.0,362.0,569.0,653.0],\"type\":\"scatter\"},{\"hovertemplate\":\"<b>Patrick Mahomes</b><br>%{y} yds through week %{x}<extra></extra>\",\"line\":{\"color\":\"#E31837\"},\"mode\":\"markers+lines\",\"name\":\"Patrick Mahomes\",\"x\":[1,2,3,4],\"y\":[360.0,595.0,857.0,1106.0],\"type\":\"scatter\"},{\"hovertemplate\":\"<b>Russell Wilson</b><br>%{y} yds through week %{x}<extra></extra>\",\"line\":{\"color\":\"#002244\"},\"mode\":\"markers+lines\",\"name\":\"Russell Wilson\",\"x\":[1,2,3,4],\"y\":[340.0,559.0,743.0,980.0],\"type\":\"scatter\"},{\"hovertemplate\":\"<b>Ryan Tannehill</b><br>%{y} yds through week %{x}<extra></extra>\",\"line\":{\"color\":\"#002244\"},\"mode\":\"markers+lines\",\"name\":\"Ryan Tannehill\",\"x\":[1,2,3,4],\"y\":[266.0,383.0,647.0,784.0],\"type\":\"scatter\"},{\"hovertemplate\":\"<b>Ryan Wright</b><br>%{y} yds through week %{x}<extra></extra>\",\"line\":{\"color\":\"#4F2683\"},\"mode\":\"markers+lines\",\"name\":\"Ryan Wright\",\"x\":[4],\"y\":[13.0],\"type\":\"scatter\"},{\"hovertemplate\":\"<b>Teddy Bridgewater</b><br>%{y} yds through week %{x}<extra></extra>\",\"line\":{\"color\":\"#008E97\"},\"mode\":\"markers+lines\",\"name\":\"Teddy Bridgewater\",\"x\":[3,4],\"y\":[0.0,193.0],\"type\":\"scatter\"},{\"hovertemplate\":\"<b>Tom Brady</b><br>%{y} yds through week %{x}<extra></extra>\",\"line\":{\"color\":\"#A71930\"},\"mode\":\"markers+lines\",\"name\":\"Tom Brady\",\"x\":[1,2,3,4],\"y\":[212.0,402.0,673.0,1058.0],\"type\":\"scatter\"},{\"hovertemplate\":\"<b>Trace McSorley</b><br>%{y} yds through week %{x}<extra></extra>\",\"line\":{\"color\":\"#97233F\"},\"mode\":\"markers+lines\",\"name\":\"Trace McSorley\",\"x\":[1],\"y\":[12.0],\"type\":\"scatter\"},{\"hovertemplate\":\"<b>Trevor Lawrence</b><br>%{y} yds through week %{x}<extra></extra>\",\"line\":{\"color\":\"#006778\"},\"mode\":\"markers+lines\",\"name\":\"Trevor Lawrence\",\"x\":[1,2,3,4],\"y\":[275.0,510.0,772.0,946.0],\"type\":\"scatter\"},{\"hovertemplate\":\"<b>Trey Lance</b><br>%{y} yds through week %{x}<extra></extra>\",\"line\":{\"color\":\"#AA0000\"},\"mode\":\"markers+lines\",\"name\":\"Trey Lance\",\"x\":[1,2],\"y\":[164.0,194.0],\"type\":\"scatter\"},{\"hovertemplate\":\"<b>Tua Tagovailoa</b><br>%{y} yds through week %{x}<extra></extra>\",\"line\":{\"color\":\"#008E97\"},\"mode\":\"markers+lines\",\"name\":\"Tua Tagovailoa\",\"x\":[1,2,3,4],\"y\":[270.0,739.0,925.0,1035.0],\"type\":\"scatter\"},{\"hovertemplate\":\"<b>Tyler Boyd</b><br>%{y} yds through week %{x}<extra></extra>\",\"line\":{\"color\":\"#FB4F14\"},\"mode\":\"markers+lines\",\"name\":\"Tyler Boyd\",\"x\":[4],\"y\":[23.0],\"type\":\"scatter\"},{\"hovertemplate\":\"<b>Tyrod Taylor</b><br>%{y} yds through week %{x}<extra></extra>\",\"line\":{\"color\":\"#0B2265\"},\"mode\":\"markers+lines\",\"name\":\"Tyrod Taylor\",\"x\":[4],\"y\":[11.0],\"type\":\"scatter\"},{\"hovertemplate\":\"<b>Zach Wilson</b><br>%{y} yds through week %{x}<extra></extra>\",\"line\":{\"color\":\"#003F2D\"},\"mode\":\"markers+lines\",\"name\":\"Zach Wilson\",\"x\":[4],\"y\":[252.0],\"type\":\"scatter\"}],                        {\"template\":{\"data\":{\"histogram2dcontour\":[{\"type\":\"histogram2dcontour\",\"colorbar\":{\"outlinewidth\":0,\"ticks\":\"\"},\"colorscale\":[[0.0,\"#0d0887\"],[0.1111111111111111,\"#46039f\"],[0.2222222222222222,\"#7201a8\"],[0.3333333333333333,\"#9c179e\"],[0.4444444444444444,\"#bd3786\"],[0.5555555555555556,\"#d8576b\"],[0.6666666666666666,\"#ed7953\"],[0.7777777777777778,\"#fb9f3a\"],[0.8888888888888888,\"#fdca26\"],[1.0,\"#f0f921\"]]}],\"choropleth\":[{\"type\":\"choropleth\",\"colorbar\":{\"outlinewidth\":0,\"ticks\":\"\"}}],\"histogram2d\":[{\"type\":\"histogram2d\",\"colorbar\":{\"outlinewidth\":0,\"ticks\":\"\"},\"colorscale\":[[0.0,\"#0d0887\"],[0.1111111111111111,\"#46039f\"],[0.2222222222222222,\"#7201a8\"],[0.3333333333333333,\"#9c179e\"],[0.4444444444444444,\"#bd3786\"],[0.5555555555555556,\"#d8576b\"],[0.6666666666666666,\"#ed7953\"],[0.7777777777777778,\"#fb9f3a\"],[0.8888888888888888,\"#fdca26\"],[1.0,\"#f0f921\"]]}],\"heatmap\":[{\"type\":\"heatmap\",\"colorbar\":{\"outlinewidth\":0,\"ticks\":\"\"},\"colorscale\":[[0.0,\"#0d0887\"],[0.1111111111111111,\"#46039f\"],[0.2222222222222222,\"#7201a8\"],[0.3333333333333333,\"#9c179e\"],[0.4444444444444444,\"#bd3786\"],[0.5555555555555556,\"#d8576b\"],[0.6666666666666666,\"#ed7953\"],[0.7777777777777778,\"#fb9f3a\"],[0.8888888888888888,\"#fdca26\"],[1.0,\"#f0f921\"]]}],\"heatmapgl\":[{\"type\":\"heatmapgl\",\"colorbar\":{\"outlinewidth\":0,\"ticks\":\"\"},\"colorscale\":[[0.0,\"#0d0887\"],[0.1111111111111111,\"#46039f\"],[0.2222222222222222,\"#7201a8\"],[0.3333333333333333,\"#9c179e\"],[0.4444444444444444,\"#bd3786\"],[0.5555555555555556,\"#d8576b\"],[0.6666666666666666,\"#ed7953\"],[0.7777777777777778,\"#fb9f3a\"],[0.8888888888888888,\"#fdca26\"],[1.0,\"#f0f921\"]]}],\"contourcarpet\":[{\"type\":\"contourcarpet\",\"colorbar\":{\"outlinewidth\":0,\"ticks\":\"\"}}],\"contour\":[{\"type\":\"contour\",\"colorbar\":{\"outlinewidth\":0,\"ticks\":\"\"},\"colorscale\":[[0.0,\"#0d0887\"],[0.1111111111111111,\"#46039f\"],[0.2222222222222222,\"#7201a8\"],[0.3333333333333333,\"#9c179e\"],[0.4444444444444444,\"#bd3786\"],[0.5555555555555556,\"#d8576b\"],[0.6666666666666666,\"#ed7953\"],[0.7777777777777778,\"#fb9f3a\"],[0.8888888888888888,\"#fdca26\"],[1.0,\"#f0f921\"]]}],\"surface\":[{\"type\":\"surface\",\"colorbar\":{\"outlinewidth\":0,\"ticks\":\"\"},\"colorscale\":[[0.0,\"#0d0887\"],[0.1111111111111111,\"#46039f\"],[0.2222222222222222,\"#7201a8\"],[0.3333333333333333,\"#9c179e\"],[0.4444444444444444,\"#bd3786\"],[0.5555555555555556,\"#d8576b\"],[0.6666666666666666,\"#ed7953\"],[0.7777777777777778,\"#fb9f3a\"],[0.8888888888888888,\"#fdca26\"],[1.0,\"#f0f921\"]]}],\"mesh3d\":[{\"type\":\"mesh3d\",\"colorbar\":{\"outlinewidth\":0,\"ticks\":\"\"}}],\"scatter\":[{\"fillpattern\":{\"fillmode\":\"overlay\",\"size\":10,\"solidity\":0.2},\"type\":\"scatter\"}],\"parcoords\":[{\"type\":\"parcoords\",\"line\":{\"colorbar\":{\"outlinewidth\":0,\"ticks\":\"\"}}}],\"scatterpolargl\":[{\"type\":\"scatterpolargl\",\"marker\":{\"colorbar\":{\"outlinewidth\":0,\"ticks\":\"\"}}}],\"bar\":[{\"error_x\":{\"color\":\"#2a3f5f\"},\"error_y\":{\"color\":\"#2a3f5f\"},\"marker\":{\"line\":{\"color\":\"#E5ECF6\",\"width\":0.5},\"pattern\":{\"fillmode\":\"overlay\",\"size\":10,\"solidity\":0.2}},\"type\":\"bar\"}],\"scattergeo\":[{\"type\":\"scattergeo\",\"marker\":{\"colorbar\":{\"outlinewidth\":0,\"ticks\":\"\"}}}],\"scatterpolar\":[{\"type\":\"scatterpolar\",\"marker\":{\"colorbar\":{\"outlinewidth\":0,\"ticks\":\"\"}}}],\"histogram\":[{\"marker\":{\"pattern\":{\"fillmode\":\"overlay\",\"size\":10,\"solidity\":0.2}},\"type\":\"histogram\"}],\"scattergl\":[{\"type\":\"scattergl\",\"marker\":{\"colorbar\":{\"outlinewidth\":0,\"ticks\":\"\"}}}],\"scatter3d\":[{\"type\":\"scatter3d\",\"line\":{\"colorbar\":{\"outlinewidth\":0,\"ticks\":\"\"}},\"marker\":{\"colorbar\":{\"outlinewidth\":0,\"ticks\":\"\"}}}],\"scattermapbox\":[{\"type\":\"scattermapbox\",\"marker\":{\"colorbar\":{\"outlinewidth\":0,\"ticks\":\"\"}}}],\"scatterternary\":[{\"type\":\"scatterternary\",\"marker\":{\"colorbar\":{\"outlinewidth\":0,\"ticks\":\"\"}}}],\"scattercarpet\":[{\"type\":\"scattercarpet\",\"marker\":{\"colorbar\":{\"outlinewidth\":0,\"ticks\":\"\"}}}],\"carpet\":[{\"aaxis\":{\"endlinecolor\":\"#2a3f5f\",\"gridcolor\":\"white\",\"linecolor\":\"white\",\"minorgridcolor\":\"white\",\"startlinecolor\":\"#2a3f5f\"},\"baxis\":{\"endlinecolor\":\"#2a3f5f\",\"gridcolor\":\"white\",\"linecolor\":\"white\",\"minorgridcolor\":\"white\",\"startlinecolor\":\"#2a3f5f\"},\"type\":\"carpet\"}],\"table\":[{\"cells\":{\"fill\":{\"color\":\"#EBF0F8\"},\"line\":{\"color\":\"white\"}},\"header\":{\"fill\":{\"color\":\"#C8D4E3\"},\"line\":{\"color\":\"white\"}},\"type\":\"table\"}],\"barpolar\":[{\"marker\":{\"line\":{\"color\":\"#E5ECF6\",\"width\":0.5},\"pattern\":{\"fillmode\":\"overlay\",\"size\":10,\"solidity\":0.2}},\"type\":\"barpolar\"}],\"pie\":[{\"automargin\":true,\"type\":\"pie\"}]},\"layout\":{\"autotypenumbers\":\"strict\",\"colorway\":[\"#636efa\",\"#EF553B\",\"#00cc96\",\"#ab63fa\",\"#FFA15A\",\"#19d3f3\",\"#FF6692\",\"#B6E880\",\"#FF97FF\",\"#FECB52\"],\"font\":{\"color\":\"#2a3f5f\"},\"hovermode\":\"closest\",\"hoverlabel\":{\"align\":\"left\"},\"paper_bgcolor\":\"white\",\"plot_bgcolor\":\"#E5ECF6\",\"polar\":{\"bgcolor\":\"#E5ECF6\",\"angularaxis\":{\"gridcolor\":\"white\",\"linecolor\":\"white\",\"ticks\":\"\"},\"radialaxis\":{\"gridcolor\":\"white\",\"linecolor\":\"white\",\"ticks\":\"\"}},\"ternary\":{\"bgcolor\":\"#E5ECF6\",\"aaxis\":{\"gridcolor\":\"white\",\"linecolor\":\"white\",\"ticks\":\"\"},\"baxis\":{\"gridcolor\":\"white\",\"linecolor\":\"white\",\"ticks\":\"\"},\"caxis\":{\"gridcolor\":\"white\",\"linecolor\":\"white\",\"ticks\":\"\"}},\"coloraxis\":{\"colorbar\":{\"outlinewidth\":0,\"ticks\":\"\"}},\"colorscale\":{\"sequential\":[[0.0,\"#0d0887\"],[0.1111111111111111,\"#46039f\"],[0.2222222222222222,\"#7201a8\"],[0.3333333333333333,\"#9c179e\"],[0.4444444444444444,\"#bd3786\"],[0.5555555555555556,\"#d8576b\"],[0.6666666666666666,\"#ed7953\"],[0.7777777777777778,\"#fb9f3a\"],[0.8888888888888888,\"#fdca26\"],[1.0,\"#f0f921\"]],\"sequentialminus\":[[0.0,\"#0d0887\"],[0.1111111111111111,\"#46039f\"],[0.2222222222222222,\"#7201a8\"],[0.3333333333333333,\"#9c179e\"],[0.4444444444444444,\"#bd3786\"],[0.5555555555555556,\"#d8576b\"],[0.6666666666666666,\"#ed7953\"],[0.7777777777777778,\"#fb9f3a\"],[0.8888888888888888,\"#fdca26\"],[1.0,\"#f0f921\"]],\"diverging\":[[0,\"#8e0152\"],[0.1,\"#c51b7d\"],[0.2,\"#de77ae\"],[0.3,\"#f1b6da\"],[0.4,\"#fde0ef\"],[0.5,\"#f7f7f7\"],[0.6,\"#e6f5d0\"],[0.7,\"#b8e186\"],[0.8,\"#7fbc41\"],[0.9,\"#4d9221\"],[1,\"#276419\"]]},\"xaxis\":{\"gridcolor\":\"white\",\"linecolor\":\"white\",\"ticks\":\"\",\"title\":{\"standoff\":15},\"zerolinecolor\":\"white\",\"automargin\":true,\"zerolinewidth\":2},\"yaxis\":{\"gridcolor\":\"white\",\"linecolor\":\"white\",\"ticks\":\"\",\"title\":{\"standoff\":15},\"zerolinecolor\":\"white\",\"automargin\":true,\"zerolinewidth\":2},\"scene\":{\"xaxis\":{\"backgroundcolor\":\"#E5ECF6\",\"gridcolor\":\"white\",\"linecolor\":\"white\",\"showbackground\":true,\"ticks\":\"\",\"zerolinecolor\":\"white\",\"gridwidth\":2},\"yaxis\":{\"backgroundcolor\":\"#E5ECF6\",\"gridcolor\":\"white\",\"linecolor\":\"white\",\"showbackground\":true,\"ticks\":\"\",\"zerolinecolor\":\"white\",\"gridwidth\":2},\"zaxis\":{\"backgroundcolor\":\"#E5ECF6\",\"gridcolor\":\"white\",\"linecolor\":\"white\",\"showbackground\":true,\"ticks\":\"\",\"zerolinecolor\":\"white\",\"gridwidth\":2}},\"shapedefaults\":{\"line\":{\"color\":\"#2a3f5f\"}},\"annotationdefaults\":{\"arrowcolor\":\"#2a3f5f\",\"arrowhead\":0,\"arrowwidth\":1},\"geo\":{\"bgcolor\":\"white\",\"landcolor\":\"#E5ECF6\",\"subunitcolor\":\"white\",\"showland\":true,\"showlakes\":true,\"lakecolor\":\"white\"},\"title\":{\"x\":0.05},\"mapbox\":{\"style\":\"light\"}}}},                        {\"responsive\": true}                    ).then(function(){\n",
       "                            \n",
       "var gd = document.getElementById('30cb94ac-c9a7-4135-b954-ea987eccd863');\n",
       "var x = new MutationObserver(function (mutations, observer) {{\n",
       "        var display = window.getComputedStyle(gd).display;\n",
       "        if (!display || display === 'none') {{\n",
       "            console.log([gd, 'removed!']);\n",
       "            Plotly.purge(gd);\n",
       "            observer.disconnect();\n",
       "        }}\n",
       "}});\n",
       "\n",
       "// Listen for the removal of the full notebook cells\n",
       "var notebookContainer = gd.closest('#notebook-container');\n",
       "if (notebookContainer) {{\n",
       "    x.observe(notebookContainer, {childList: true});\n",
       "}}\n",
       "\n",
       "// Listen for the clearing of the current output cell\n",
       "var outputEl = gd.closest('.output');\n",
       "if (outputEl) {{\n",
       "    x.observe(outputEl, {childList: true});\n",
       "}}\n",
       "\n",
       "                        })                };                });            </script>        </div>"
      ]
     },
     "metadata": {},
     "output_type": "display_data"
    }
   ],
   "source": [
    "fig = go.Figure()\n",
    "for name, values in df_agg.groupby(\"player_name\"):\n",
    "    if values[\"passing_yards\"].sum() > 1: #filter for over 500 passing yards\n",
    "        fig.add_trace(\n",
    "            go.Scatter(\n",
    "                x=values[\"week\"], \n",
    "                y=values[\"passing_yards\"].cumsum(), \n",
    "                name=name, \n",
    "                mode=\"markers+lines\", \n",
    "                line_color=values.iloc[0].team_color,\n",
    "                hovertemplate=f\"<b>{name}</b><br>%{{y}} yds through week %{{x}}<extra></extra>\"\n",
    "            )\n",
    "        )\n",
    "    \n",
    "fig.update_layout(\n",
    "    font_family=\"Averta, sans-serif\",\n",
    "    hoverlabel_font_family=\"Averta, sans-serif\",\n",
    "    xaxis_title_text=\"Week\",\n",
    "    xaxis_title_font_size=18,\n",
    "    xaxis_tickfont_size=16,\n",
    "    yaxis_title_text=\"Passing Yards\",\n",
    "    yaxis_title_font_size=18,\n",
    "    yaxis_tickfont_size=16,\n",
    "    hoverlabel_font_size=16,\n",
    "    legend_font_size=16,\n",
    "    height=1000,\n",
    "    width=1000\n",
    ")\n",
    "    \n",
    "fig.show()"
   ]
  },
  {
   "cell_type": "code",
   "execution_count": null,
   "metadata": {},
   "outputs": [],
   "source": []
  }
 ],
 "metadata": {
  "kernelspec": {
   "display_name": "Python 3",
   "language": "python",
   "name": "python3"
  },
  "language_info": {
   "codemirror_mode": {
    "name": "ipython",
    "version": 3
   },
   "file_extension": ".py",
   "mimetype": "text/x-python",
   "name": "python",
   "nbconvert_exporter": "python",
   "pygments_lexer": "ipython3",
   "version": "3.7.6"
  }
 },
 "nbformat": 4,
 "nbformat_minor": 4
}
